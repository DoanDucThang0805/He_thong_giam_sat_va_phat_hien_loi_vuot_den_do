{
 "cells": [
  {
   "cell_type": "code",
   "execution_count": 2,
   "metadata": {},
   "outputs": [],
   "source": [
    "import pandas as pd\n",
    "import numpy as pd\n",
    "import matplotlib.pyplot as plt\n",
    "import seaborn as sns\n",
    "import tensorflow as tf\n",
    "from tensorflow import keras\n",
    "import keras\n",
    "from yolov5 import YOLOv5\n",
    "import cv2"
   ]
  },
  {
   "cell_type": "code",
   "execution_count": 5,
   "metadata": {},
   "outputs": [
    {
     "name": "stderr",
     "output_type": "stream",
     "text": [
      "YOLOv5  2024-9-14 Python-3.12.3 torch-2.3.0+cpu CPU\n",
      "\n",
      "Fusing layers... \n",
      "YOLOv5s summary: 270 layers, 7235389 parameters, 0 gradients, 16.6 GFLOPs\n",
      "Adding AutoShape... \n"
     ]
    },
    {
     "name": "stdout",
     "output_type": "stream",
     "text": [
      "Saved result to E:\\Personal_Project\\Hệ thống giám sát giao thông\\data\\experiment\\result_image.jpg\n"
     ]
    }
   ],
   "source": [
    "import cv2\n",
    "from yolov5 import YOLOv5\n",
    "\n",
    "# Đường dẫn đến mô hình YOLOv5 của bạn\n",
    "model_path = r\"E:\\Personal_Project\\Hệ thống giám sát giao thông\\model\\yolov5s.pt\"\n",
    "\n",
    "# Đường dẫn đến ảnh bạn muốn kiểm tra\n",
    "img_test_path = r\"E:\\Personal_Project\\Hệ thống giám sát giao thông\\data\\experiment\\I-80_Eastshore_Fwy.jpg\"\n",
    "\n",
    "# Tạo đối tượng mô hình YOLOv5 từ tệp .pt\n",
    "model = YOLOv5(model_path)\n",
    "\n",
    "# Đọc ảnh\n",
    "img = cv2.imread(img_test_path)\n",
    "\n",
    "# Chuyển đổi ảnh từ BGR sang RGB\n",
    "img_rgb = cv2.cvtColor(img, cv2.COLOR_BGR2RGB)\n",
    "\n",
    "# Dự đoán với mô hình YOLOv5\n",
    "results = model.predict(img_rgb)\n",
    "\n",
    "# Hiển thị kết quả\n",
    "results.render()  # Thêm bounding boxes vào ảnh\n",
    "img_with_boxes = results.ims[0]\n",
    "\n",
    "# Hiển thị ảnh với bounding boxes\n",
    "cv2.imshow('YOLOv5 Detection', img_with_boxes)\n",
    "\n",
    "# Lưu ảnh kết quả\n",
    "output_path = r\"E:\\Personal_Project\\Hệ thống giám sát giao thông\\data\\experiment\\result_image.jpg\"\n",
    "cv2.imwrite(output_path, img_with_boxes)\n",
    "print(f\"Saved result to {output_path}\")\n",
    "\n",
    "# Đợi cho đến khi người dùng nhấn phím bất kỳ\n",
    "cv2.waitKey(0)\n",
    "cv2.destroyAllWindows()\n"
   ]
  }
 ],
 "metadata": {
  "kernelspec": {
   "display_name": "iot",
   "language": "python",
   "name": "python3"
  },
  "language_info": {
   "codemirror_mode": {
    "name": "ipython",
    "version": 3
   },
   "file_extension": ".py",
   "mimetype": "text/x-python",
   "name": "python",
   "nbconvert_exporter": "python",
   "pygments_lexer": "ipython3",
   "version": "3.12.3"
  }
 },
 "nbformat": 4,
 "nbformat_minor": 2
}
