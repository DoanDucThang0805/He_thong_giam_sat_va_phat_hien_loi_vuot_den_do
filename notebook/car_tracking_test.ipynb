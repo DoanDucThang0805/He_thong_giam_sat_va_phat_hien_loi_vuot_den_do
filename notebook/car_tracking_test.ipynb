{
 "cells": [
  {
   "cell_type": "code",
   "execution_count": 4,
   "metadata": {},
   "outputs": [],
   "source": [
    "import pandas as pd\n",
    "import numpy as pd\n",
    "import matplotlib.pyplot as plt\n",
    "import seaborn as sns\n",
    "import tensorflow as tf\n",
    "from tensorflow import keras\n",
    "import keras\n",
    "from yolov5 import YOLOv5\n",
    "import cv2"
   ]
  },
  {
   "cell_type": "code",
   "execution_count": 15,
   "metadata": {},
   "outputs": [
    {
     "ename": "NotImplementedError",
     "evalue": "cannot instantiate 'PosixPath' on your system",
     "output_type": "error",
     "traceback": [
      "\u001b[1;31m---------------------------------------------------------------------------\u001b[0m",
      "\u001b[1;31mNotImplementedError\u001b[0m                       Traceback (most recent call last)",
      "Cell \u001b[1;32mIn[15], line 7\u001b[0m\n\u001b[0;32m      4\u001b[0m model_path \u001b[38;5;241m=\u001b[39m \u001b[38;5;124mr\u001b[39m\u001b[38;5;124m\"\u001b[39m\u001b[38;5;124mE:\u001b[39m\u001b[38;5;124m\\\u001b[39m\u001b[38;5;124mPersonal_Project\u001b[39m\u001b[38;5;124m\\\u001b[39m\u001b[38;5;124mHệ thống giám sát giao thông\u001b[39m\u001b[38;5;124m\\\u001b[39m\u001b[38;5;124mmodel\u001b[39m\u001b[38;5;124m\\\u001b[39m\u001b[38;5;124mvehicle_detection\u001b[39m\u001b[38;5;124m\\\u001b[39m\u001b[38;5;124mbest.pt\u001b[39m\u001b[38;5;124m\"\u001b[39m\n\u001b[0;32m      6\u001b[0m \u001b[38;5;66;03m# Tải mô hình\u001b[39;00m\n\u001b[1;32m----> 7\u001b[0m model \u001b[38;5;241m=\u001b[39m torch\u001b[38;5;241m.\u001b[39mload(model_path, map_location\u001b[38;5;241m=\u001b[39m\u001b[38;5;124m'\u001b[39m\u001b[38;5;124mcpu\u001b[39m\u001b[38;5;124m'\u001b[39m)\n",
      "File \u001b[1;32mc:\\Users\\ducth\\anaconda3\\envs\\iot\\Lib\\site-packages\\torch\\serialization.py:1025\u001b[0m, in \u001b[0;36mload\u001b[1;34m(f, map_location, pickle_module, weights_only, mmap, **pickle_load_args)\u001b[0m\n\u001b[0;32m   1023\u001b[0m             \u001b[38;5;28;01mexcept\u001b[39;00m \u001b[38;5;167;01mRuntimeError\u001b[39;00m \u001b[38;5;28;01mas\u001b[39;00m e:\n\u001b[0;32m   1024\u001b[0m                 \u001b[38;5;28;01mraise\u001b[39;00m pickle\u001b[38;5;241m.\u001b[39mUnpicklingError(UNSAFE_MESSAGE \u001b[38;5;241m+\u001b[39m \u001b[38;5;28mstr\u001b[39m(e)) \u001b[38;5;28;01mfrom\u001b[39;00m \u001b[38;5;28;01mNone\u001b[39;00m\n\u001b[1;32m-> 1025\u001b[0m         \u001b[38;5;28;01mreturn\u001b[39;00m _load(opened_zipfile,\n\u001b[0;32m   1026\u001b[0m                      map_location,\n\u001b[0;32m   1027\u001b[0m                      pickle_module,\n\u001b[0;32m   1028\u001b[0m                      overall_storage\u001b[38;5;241m=\u001b[39moverall_storage,\n\u001b[0;32m   1029\u001b[0m                      \u001b[38;5;241m*\u001b[39m\u001b[38;5;241m*\u001b[39mpickle_load_args)\n\u001b[0;32m   1030\u001b[0m \u001b[38;5;28;01mif\u001b[39;00m mmap:\n\u001b[0;32m   1031\u001b[0m     f_name \u001b[38;5;241m=\u001b[39m \u001b[38;5;124m\"\u001b[39m\u001b[38;5;124m\"\u001b[39m \u001b[38;5;28;01mif\u001b[39;00m \u001b[38;5;129;01mnot\u001b[39;00m \u001b[38;5;28misinstance\u001b[39m(f, \u001b[38;5;28mstr\u001b[39m) \u001b[38;5;28;01melse\u001b[39;00m \u001b[38;5;124mf\u001b[39m\u001b[38;5;124m\"\u001b[39m\u001b[38;5;132;01m{\u001b[39;00mf\u001b[38;5;132;01m}\u001b[39;00m\u001b[38;5;124m, \u001b[39m\u001b[38;5;124m\"\u001b[39m\n",
      "File \u001b[1;32mc:\\Users\\ducth\\anaconda3\\envs\\iot\\Lib\\site-packages\\torch\\serialization.py:1446\u001b[0m, in \u001b[0;36m_load\u001b[1;34m(zip_file, map_location, pickle_module, pickle_file, overall_storage, **pickle_load_args)\u001b[0m\n\u001b[0;32m   1444\u001b[0m unpickler \u001b[38;5;241m=\u001b[39m UnpicklerWrapper(data_file, \u001b[38;5;241m*\u001b[39m\u001b[38;5;241m*\u001b[39mpickle_load_args)\n\u001b[0;32m   1445\u001b[0m unpickler\u001b[38;5;241m.\u001b[39mpersistent_load \u001b[38;5;241m=\u001b[39m persistent_load\n\u001b[1;32m-> 1446\u001b[0m result \u001b[38;5;241m=\u001b[39m unpickler\u001b[38;5;241m.\u001b[39mload()\n\u001b[0;32m   1448\u001b[0m torch\u001b[38;5;241m.\u001b[39m_utils\u001b[38;5;241m.\u001b[39m_validate_loaded_sparse_tensors()\n\u001b[0;32m   1449\u001b[0m torch\u001b[38;5;241m.\u001b[39m_C\u001b[38;5;241m.\u001b[39m_log_api_usage_metadata(\n\u001b[0;32m   1450\u001b[0m     \u001b[38;5;124m\"\u001b[39m\u001b[38;5;124mtorch.load.metadata\u001b[39m\u001b[38;5;124m\"\u001b[39m, {\u001b[38;5;124m\"\u001b[39m\u001b[38;5;124mserialization_id\u001b[39m\u001b[38;5;124m\"\u001b[39m: zip_file\u001b[38;5;241m.\u001b[39mserialization_id()}\n\u001b[0;32m   1451\u001b[0m )\n",
      "File \u001b[1;32mc:\\Users\\ducth\\anaconda3\\envs\\iot\\Lib\\pathlib.py:1422\u001b[0m, in \u001b[0;36mPosixPath.__new__\u001b[1;34m(cls, *args, **kwargs)\u001b[0m\n\u001b[0;32m   1421\u001b[0m \u001b[38;5;28;01mdef\u001b[39;00m \u001b[38;5;21m__new__\u001b[39m(\u001b[38;5;28mcls\u001b[39m, \u001b[38;5;241m*\u001b[39margs, \u001b[38;5;241m*\u001b[39m\u001b[38;5;241m*\u001b[39mkwargs):\n\u001b[1;32m-> 1422\u001b[0m     \u001b[38;5;28;01mraise\u001b[39;00m \u001b[38;5;167;01mNotImplementedError\u001b[39;00m(\n\u001b[0;32m   1423\u001b[0m         \u001b[38;5;124mf\u001b[39m\u001b[38;5;124m\"\u001b[39m\u001b[38;5;124mcannot instantiate \u001b[39m\u001b[38;5;132;01m{\u001b[39;00m\u001b[38;5;28mcls\u001b[39m\u001b[38;5;241m.\u001b[39m\u001b[38;5;18m__name__\u001b[39m\u001b[38;5;132;01m!r}\u001b[39;00m\u001b[38;5;124m on your system\u001b[39m\u001b[38;5;124m\"\u001b[39m)\n",
      "\u001b[1;31mNotImplementedError\u001b[0m: cannot instantiate 'PosixPath' on your system"
     ]
    }
   ],
   "source": [
    "import torch\n",
    "\n",
    "# Đường dẫn đến mô hình của bạn\n",
    "model_path = r\"E:\\Personal_Project\\Hệ thống giám sát giao thông\\model\\vehicle_detection\\best.pt\"\n",
    "\n",
    "# Tải mô hình\n",
    "model = torch.load(model_path, map_location='cpu')\n"
   ]
  },
  {
   "cell_type": "code",
   "execution_count": 3,
   "metadata": {},
   "outputs": [],
   "source": [
    "# import cv2\n",
    "# import torch\n",
    "# from yolov5 import YOLOv5\n",
    "\n",
    "# # Đường dẫn đến mô hình YOLOv5 của bạn\n",
    "# model_path = r\"E:\\Personal_Project\\Hệ thống giám sát giao thông\\model\\yolov5s.pt\"\n",
    "\n",
    "# # Đường dẫn đến ảnh bạn muốn kiểm tra\n",
    "# img_test_path = r\"E:\\Personal_Project\\Hệ thống giám sát giao thông\\data\\experiment\\street.jpg\"\n",
    "\n",
    "# # Tạo đối tượng mô hình YOLOv5 từ tệp .pt\n",
    "# model = YOLOv5(model_path)\n",
    "\n",
    "# # Đọc ảnh\n",
    "# img = cv2.imread(img_test_path)\n",
    "\n",
    "# # Chuyển đổi ảnh từ BGR sang RGB\n",
    "# img_rgb = cv2.cvtColor(img, cv2.COLOR_BGR2RGB)\n",
    "\n",
    "# # Dự đoán với mô hình YOLOv5\n",
    "# results = model.predict(img_rgb)\n",
    "\n",
    "# # Lấy các nhãn lớp từ mô hình\n",
    "# class_names = results.names  # Đây là từ điển (dictionary) với chỉ số là key và tên lớp là value\n",
    "\n",
    "# # In ra danh sách các lớp\n",
    "# print(\"Class names:\", class_names)\n",
    "\n",
    "# # Loại bỏ lớp 'person' (có thể thay đổi nếu tên lớp khác)\n",
    "# class_to_remove = 'person'\n",
    "\n",
    "# # Tìm chỉ số của lớp cần loại bỏ\n",
    "# class_to_remove_index = None\n",
    "# for index, name in class_names.items():\n",
    "#     if name == class_to_remove:\n",
    "#         class_to_remove_index = index\n",
    "#         break\n",
    "\n",
    "# if class_to_remove_index is None:\n",
    "#     raise ValueError(f\"Lớp '{class_to_remove}' không được tìm thấy trong các lớp của mô hình.\")\n",
    "\n",
    "# # Lọc các dự đoán để loại bỏ lớp không mong muốn\n",
    "# filtered_results = results.pandas().xyxy[0][results.pandas().xyxy[0]['class'] != class_to_remove_index]\n",
    "\n",
    "# # Vẽ các bounding boxes của các lớp còn lại\n",
    "# for _, row in filtered_results.iterrows():\n",
    "#     # Vẽ bounding box\n",
    "#     cv2.rectangle(img, \n",
    "#                   (int(row['xmin']), int(row['ymin'])), \n",
    "#                   (int(row['xmax']), int(row['ymax'])), \n",
    "#                   (0, 255, 0), \n",
    "#                   2)\n",
    "#     # Vẽ nhãn lớp và độ tin cậy\n",
    "#     label = f\"{class_names[int(row['class'])]} {row['confidence']:.2f}\"\n",
    "#     cv2.putText(img, \n",
    "#                 label, \n",
    "#                 (int(row['xmin']), int(row['ymin']) - 10), \n",
    "#                 cv2.FONT_HERSHEY_SIMPLEX, \n",
    "#                 0.5, \n",
    "#                 (0, 255, 0), \n",
    "#                 2)\n",
    "\n",
    "# # Hiển thị ảnh với các bounding boxes\n",
    "# cv2.imshow('Filtered YOLOv5 Detection', img)\n",
    "\n",
    "# # Lưu ảnh kết quả\n",
    "# output_path = r\"E:\\Personal_Project\\Hệ thống giám sát giao thông\\data\\experiment\\street2_image.jpg\"\n",
    "# cv2.imwrite(output_path, img)\n",
    "# print(f\"Saved filtered result to {output_path}\")\n",
    "\n",
    "# # Đợi cho đến khi người dùng nhấn phím bất kỳ\n",
    "# cv2.waitKey(0)\n",
    "# cv2.destroyAllWindows()\n"
   ]
  }
 ],
 "metadata": {
  "kernelspec": {
   "display_name": "iot",
   "language": "python",
   "name": "python3"
  },
  "language_info": {
   "codemirror_mode": {
    "name": "ipython",
    "version": 3
   },
   "file_extension": ".py",
   "mimetype": "text/x-python",
   "name": "python",
   "nbconvert_exporter": "python",
   "pygments_lexer": "ipython3",
   "version": "3.12.3"
  }
 },
 "nbformat": 4,
 "nbformat_minor": 2
}
